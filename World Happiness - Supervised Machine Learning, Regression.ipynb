{
 "cells": [
  {
   "cell_type": "markdown",
   "id": "6a1a66c0",
   "metadata": {},
   "source": [
    "# import libraries and data"
   ]
  },
  {
   "cell_type": "code",
   "execution_count": 1,
   "id": "4e95e4e0",
   "metadata": {},
   "outputs": [],
   "source": [
    "import pandas as pd\n",
    "import numpy as np\n",
    "import seaborn as sns\n",
    "import matplotlib\n",
    "import matplotlib.pyplot as plt\n",
    "import os\n",
    "import sklearn\n",
    "from sklearn.model_selection import train_test_split \n",
    "from sklearn.linear_model import LinearRegression\n",
    "from sklearn.metrics import mean_squared_error, r2_score"
   ]
  },
  {
   "cell_type": "code",
   "execution_count": 2,
   "id": "a5243492",
   "metadata": {},
   "outputs": [],
   "source": [
    "%matplotlib inline"
   ]
  },
  {
   "cell_type": "code",
   "execution_count": 9,
   "id": "d670861f",
   "metadata": {},
   "outputs": [],
   "source": [
    "# define path\n",
    "\n",
    "path = r'/Users/alisoncoolidge/Desktop/Happiness Project'"
   ]
  },
  {
   "cell_type": "code",
   "execution_count": 10,
   "id": "8e75d94a",
   "metadata": {},
   "outputs": [],
   "source": [
    "# create dataframe\n",
    "\n",
    "df = pd.read_csv(os.path.join(path, 'Datasets', 'happiness_data_clean_v2.csv'))"
   ]
  },
  {
   "cell_type": "code",
   "execution_count": 11,
   "id": "1fafed1c",
   "metadata": {},
   "outputs": [
    {
     "data": {
      "text/html": [
       "<div>\n",
       "<style scoped>\n",
       "    .dataframe tbody tr th:only-of-type {\n",
       "        vertical-align: middle;\n",
       "    }\n",
       "\n",
       "    .dataframe tbody tr th {\n",
       "        vertical-align: top;\n",
       "    }\n",
       "\n",
       "    .dataframe thead th {\n",
       "        text-align: right;\n",
       "    }\n",
       "</style>\n",
       "<table border=\"1\" class=\"dataframe\">\n",
       "  <thead>\n",
       "    <tr style=\"text-align: right;\">\n",
       "      <th></th>\n",
       "      <th>Unnamed: 0.1</th>\n",
       "      <th>Unnamed: 0</th>\n",
       "      <th>Country name</th>\n",
       "      <th>year</th>\n",
       "      <th>Life Ladder</th>\n",
       "      <th>GDP per capita</th>\n",
       "      <th>Social support</th>\n",
       "      <th>Healthy life expectancy at birth</th>\n",
       "      <th>Freedom to make life choices</th>\n",
       "      <th>Generosity</th>\n",
       "      <th>Perceptions of corruption</th>\n",
       "      <th>Positive affect</th>\n",
       "      <th>Negative affect</th>\n",
       "      <th>Confidence in national government</th>\n",
       "    </tr>\n",
       "  </thead>\n",
       "  <tbody>\n",
       "    <tr>\n",
       "      <th>0</th>\n",
       "      <td>0</td>\n",
       "      <td>0</td>\n",
       "      <td>Afghanistan</td>\n",
       "      <td>2008</td>\n",
       "      <td>3.723590</td>\n",
       "      <td>7.302574</td>\n",
       "      <td>0.450662</td>\n",
       "      <td>50.500000</td>\n",
       "      <td>0.718114</td>\n",
       "      <td>0.173169</td>\n",
       "      <td>0.881686</td>\n",
       "      <td>0.414297</td>\n",
       "      <td>0.258195</td>\n",
       "      <td>0.612072</td>\n",
       "    </tr>\n",
       "    <tr>\n",
       "      <th>1</th>\n",
       "      <td>1</td>\n",
       "      <td>1</td>\n",
       "      <td>Afghanistan</td>\n",
       "      <td>2009</td>\n",
       "      <td>4.401778</td>\n",
       "      <td>7.472446</td>\n",
       "      <td>0.552308</td>\n",
       "      <td>50.799999</td>\n",
       "      <td>0.678896</td>\n",
       "      <td>0.195469</td>\n",
       "      <td>0.850035</td>\n",
       "      <td>0.481421</td>\n",
       "      <td>0.237092</td>\n",
       "      <td>0.611545</td>\n",
       "    </tr>\n",
       "    <tr>\n",
       "      <th>2</th>\n",
       "      <td>2</td>\n",
       "      <td>2</td>\n",
       "      <td>Afghanistan</td>\n",
       "      <td>2010</td>\n",
       "      <td>4.758381</td>\n",
       "      <td>7.579183</td>\n",
       "      <td>0.539075</td>\n",
       "      <td>51.099998</td>\n",
       "      <td>0.600127</td>\n",
       "      <td>0.125859</td>\n",
       "      <td>0.706766</td>\n",
       "      <td>0.516907</td>\n",
       "      <td>0.275324</td>\n",
       "      <td>0.299357</td>\n",
       "    </tr>\n",
       "    <tr>\n",
       "      <th>3</th>\n",
       "      <td>3</td>\n",
       "      <td>3</td>\n",
       "      <td>Afghanistan</td>\n",
       "      <td>2011</td>\n",
       "      <td>3.831719</td>\n",
       "      <td>7.552006</td>\n",
       "      <td>0.521104</td>\n",
       "      <td>51.400002</td>\n",
       "      <td>0.495901</td>\n",
       "      <td>0.167723</td>\n",
       "      <td>0.731109</td>\n",
       "      <td>0.479835</td>\n",
       "      <td>0.267175</td>\n",
       "      <td>0.307386</td>\n",
       "    </tr>\n",
       "    <tr>\n",
       "      <th>4</th>\n",
       "      <td>4</td>\n",
       "      <td>4</td>\n",
       "      <td>Afghanistan</td>\n",
       "      <td>2012</td>\n",
       "      <td>3.782938</td>\n",
       "      <td>7.637953</td>\n",
       "      <td>0.520637</td>\n",
       "      <td>51.700001</td>\n",
       "      <td>0.530935</td>\n",
       "      <td>0.241247</td>\n",
       "      <td>0.775620</td>\n",
       "      <td>0.613513</td>\n",
       "      <td>0.267919</td>\n",
       "      <td>0.435440</td>\n",
       "    </tr>\n",
       "  </tbody>\n",
       "</table>\n",
       "</div>"
      ],
      "text/plain": [
       "   Unnamed: 0.1  Unnamed: 0 Country name  year  Life Ladder  GDP per capita  \\\n",
       "0             0           0  Afghanistan  2008     3.723590        7.302574   \n",
       "1             1           1  Afghanistan  2009     4.401778        7.472446   \n",
       "2             2           2  Afghanistan  2010     4.758381        7.579183   \n",
       "3             3           3  Afghanistan  2011     3.831719        7.552006   \n",
       "4             4           4  Afghanistan  2012     3.782938        7.637953   \n",
       "\n",
       "   Social support  Healthy life expectancy at birth  \\\n",
       "0        0.450662                         50.500000   \n",
       "1        0.552308                         50.799999   \n",
       "2        0.539075                         51.099998   \n",
       "3        0.521104                         51.400002   \n",
       "4        0.520637                         51.700001   \n",
       "\n",
       "   Freedom to make life choices  Generosity  Perceptions of corruption  \\\n",
       "0                      0.718114    0.173169                   0.881686   \n",
       "1                      0.678896    0.195469                   0.850035   \n",
       "2                      0.600127    0.125859                   0.706766   \n",
       "3                      0.495901    0.167723                   0.731109   \n",
       "4                      0.530935    0.241247                   0.775620   \n",
       "\n",
       "   Positive affect  Negative affect  Confidence in national government  \n",
       "0         0.414297         0.258195                           0.612072  \n",
       "1         0.481421         0.237092                           0.611545  \n",
       "2         0.516907         0.275324                           0.299357  \n",
       "3         0.479835         0.267175                           0.307386  \n",
       "4         0.613513         0.267919                           0.435440  "
      ]
     },
     "execution_count": 11,
     "metadata": {},
     "output_type": "execute_result"
    }
   ],
   "source": [
    "df.head(5)"
   ]
  },
  {
   "cell_type": "code",
   "execution_count": 12,
   "id": "db4ab1a1",
   "metadata": {},
   "outputs": [
    {
     "name": "stdout",
     "output_type": "stream",
     "text": [
      "<class 'pandas.core.frame.DataFrame'>\n",
      "RangeIndex: 2089 entries, 0 to 2088\n",
      "Data columns (total 14 columns):\n",
      " #   Column                             Non-Null Count  Dtype  \n",
      "---  ------                             --------------  -----  \n",
      " 0   Unnamed: 0.1                       2089 non-null   int64  \n",
      " 1   Unnamed: 0                         2089 non-null   int64  \n",
      " 2   Country name                       2089 non-null   object \n",
      " 3   year                               2089 non-null   int64  \n",
      " 4   Life Ladder                        2089 non-null   float64\n",
      " 5   GDP per capita                     2062 non-null   float64\n",
      " 6   Social support                     2076 non-null   float64\n",
      " 7   Healthy life expectancy at birth   2031 non-null   float64\n",
      " 8   Freedom to make life choices       2057 non-null   float64\n",
      " 9   Generosity                         2009 non-null   float64\n",
      " 10  Perceptions of corruption          1976 non-null   float64\n",
      " 11  Positive affect                    2065 non-null   float64\n",
      " 12  Negative affect                    2073 non-null   float64\n",
      " 13  Confidence in national government  1873 non-null   float64\n",
      "dtypes: float64(10), int64(3), object(1)\n",
      "memory usage: 228.6+ KB\n"
     ]
    }
   ],
   "source": [
    "df.info()"
   ]
  },
  {
   "cell_type": "markdown",
   "id": "8bc3c606",
   "metadata": {},
   "source": [
    "# data cleaning"
   ]
  },
  {
   "cell_type": "code",
   "execution_count": 21,
   "id": "6373cfa9",
   "metadata": {},
   "outputs": [
    {
     "data": {
      "text/plain": [
       "Index(['Country name', 'year', 'Life Ladder', 'GDP per capita',\n",
       "       'Social support', 'Healthy life expectancy at birth',\n",
       "       'Freedom to make life choices', 'Generosity',\n",
       "       'Perceptions of corruption', 'Positive affect', 'Negative affect',\n",
       "       'Confidence in national government'],\n",
       "      dtype='object')"
      ]
     },
     "execution_count": 21,
     "metadata": {},
     "output_type": "execute_result"
    }
   ],
   "source": [
    "df.columns"
   ]
  },
  {
   "cell_type": "code",
   "execution_count": 17,
   "id": "e2bdb392",
   "metadata": {},
   "outputs": [],
   "source": [
    "# drop extra columns\n",
    "\n",
    "df = df.drop(columns = ['Unnamed: 0', 'Unnamed: 0.1'])"
   ]
  },
  {
   "cell_type": "code",
   "execution_count": 18,
   "id": "c2c326a7",
   "metadata": {},
   "outputs": [],
   "source": [
    "# fixing year\n",
    "\n",
    "df['year'] = df['year'].astype('object')"
   ]
  },
  {
   "cell_type": "code",
   "execution_count": 19,
   "id": "7cec044b",
   "metadata": {},
   "outputs": [
    {
     "data": {
      "text/plain": [
       "Country name                          object\n",
       "year                                  object\n",
       "Life Ladder                          float64\n",
       "GDP per capita                       float64\n",
       "Social support                       float64\n",
       "Healthy life expectancy at birth     float64\n",
       "Freedom to make life choices         float64\n",
       "Generosity                           float64\n",
       "Perceptions of corruption            float64\n",
       "Positive affect                      float64\n",
       "Negative affect                      float64\n",
       "Confidence in national government    float64\n",
       "dtype: object"
      ]
     },
     "execution_count": 19,
     "metadata": {},
     "output_type": "execute_result"
    }
   ],
   "source": [
    "df.dtypes"
   ]
  },
  {
   "cell_type": "code",
   "execution_count": 20,
   "id": "13d6e52d",
   "metadata": {},
   "outputs": [],
   "source": [
    "# exporting cleaned df for future use\n",
    "\n",
    "df.to_csv(os.path.join(path, 'Datasets', 'happiness_data_clean_v3.csv'))"
   ]
  },
  {
   "cell_type": "code",
   "execution_count": 22,
   "id": "01c32985",
   "metadata": {},
   "outputs": [
    {
     "data": {
      "text/plain": [
       "Country name                           0\n",
       "year                                   0\n",
       "Life Ladder                            0\n",
       "GDP per capita                        27\n",
       "Social support                        13\n",
       "Healthy life expectancy at birth      58\n",
       "Freedom to make life choices          32\n",
       "Generosity                            80\n",
       "Perceptions of corruption            113\n",
       "Positive affect                       24\n",
       "Negative affect                       16\n",
       "Confidence in national government    216\n",
       "dtype: int64"
      ]
     },
     "execution_count": 22,
     "metadata": {},
     "output_type": "execute_result"
    }
   ],
   "source": [
    "# check for missing values\n",
    "\n",
    "df.isnull().sum() "
   ]
  },
  {
   "cell_type": "code",
   "execution_count": 39,
   "id": "ff703ce1",
   "metadata": {},
   "outputs": [],
   "source": [
    "# removing missing values from GDP per capita\n",
    "\n",
    "df_2 = df.dropna(subset = ['GDP per capita'])"
   ]
  },
  {
   "cell_type": "code",
   "execution_count": 40,
   "id": "25e8425e",
   "metadata": {},
   "outputs": [
    {
     "data": {
      "text/plain": [
       "Country name                           0\n",
       "year                                   0\n",
       "Life Ladder                            0\n",
       "GDP per capita                         0\n",
       "Social support                        13\n",
       "Healthy life expectancy at birth      42\n",
       "Freedom to make life choices          32\n",
       "Generosity                            53\n",
       "Perceptions of corruption            112\n",
       "Positive affect                       24\n",
       "Negative affect                       16\n",
       "Confidence in national government    216\n",
       "dtype: int64"
      ]
     },
     "execution_count": 40,
     "metadata": {},
     "output_type": "execute_result"
    }
   ],
   "source": [
    "df_2.isnull().sum() "
   ]
  },
  {
   "cell_type": "code",
   "execution_count": 41,
   "id": "35d682a8",
   "metadata": {},
   "outputs": [],
   "source": [
    "# check for dupes\n",
    "\n",
    "dupes = df_2.duplicated()"
   ]
  },
  {
   "cell_type": "code",
   "execution_count": 42,
   "id": "705e3af9",
   "metadata": {},
   "outputs": [
    {
     "data": {
      "text/plain": [
       "(2062,)"
      ]
     },
     "execution_count": 42,
     "metadata": {},
     "output_type": "execute_result"
    }
   ],
   "source": [
    "dupes.shape # No dupes"
   ]
  },
  {
   "cell_type": "code",
   "execution_count": 43,
   "id": "45948da1",
   "metadata": {},
   "outputs": [
    {
     "name": "stderr",
     "output_type": "stream",
     "text": [
      "/Users/alisoncoolidge/opt/anaconda3/lib/python3.9/site-packages/seaborn/distributions.py:2619: FutureWarning: `distplot` is a deprecated function and will be removed in a future version. Please adapt your code to use either `displot` (a figure-level function with similar flexibility) or `histplot` (an axes-level function for histograms).\n",
      "  warnings.warn(msg, FutureWarning)\n"
     ]
    },
    {
     "data": {
      "text/plain": [
       "<AxesSubplot:xlabel='GDP per capita', ylabel='Density'>"
      ]
     },
     "execution_count": 43,
     "metadata": {},
     "output_type": "execute_result"
    },
    {
     "data": {
      "image/png": "[encoded data removed]",
      "text/plain": [
       "<Figure size 432x288 with 1 Axes>"
      ]
     },
     "metadata": {
      "needs_background": "light"
     },
     "output_type": "display_data"
    }
   ],
   "source": [
    "# check for extreme values\n",
    "\n",
    "sns.distplot(df_2['GDP per capita'], bins=25)"
   ]
  },
  {
   "cell_type": "code",
   "execution_count": 44,
   "id": "9a74e479",
   "metadata": {},
   "outputs": [
    {
     "data": {
      "text/plain": [
       "9.37840846511202"
      ]
     },
     "execution_count": 44,
     "metadata": {},
     "output_type": "execute_result"
    }
   ],
   "source": [
    "# Check the mean\n",
    "\n",
    "df_2['GDP per capita'].mean() "
   ]
  },
  {
   "cell_type": "code",
   "execution_count": 45,
   "id": "e54040ea",
   "metadata": {},
   "outputs": [
    {
     "data": {
      "text/plain": [
       "9.4632687565"
      ]
     },
     "execution_count": 45,
     "metadata": {},
     "output_type": "execute_result"
    }
   ],
   "source": [
    "# Check the median\n",
    "\n",
    "df_2['GDP per capita'].median() "
   ]
  },
  {
   "cell_type": "code",
   "execution_count": 46,
   "id": "bbb828f9",
   "metadata": {},
   "outputs": [
    {
     "data": {
      "text/plain": [
       "11.66580296"
      ]
     },
     "execution_count": 46,
     "metadata": {},
     "output_type": "execute_result"
    }
   ],
   "source": [
    "# Check the max\n",
    "\n",
    "df_2['GDP per capita'].max() "
   ]
  },
  {
   "cell_type": "markdown",
   "id": "b2c3ee7a",
   "metadata": {},
   "source": [
    "# visual exploration of GDP per capita (spending power) and Life Ladder (personal ranking of happiness on 1-10 scale)"
   ]
  },
  {
   "cell_type": "code",
   "execution_count": 47,
   "id": "65a01137",
   "metadata": {},
   "outputs": [
    {
     "data": {
      "image/png": "[encoded data removed]",
      "text/plain": [
       "<Figure size 432x288 with 1 Axes>"
      ]
     },
     "metadata": {
      "needs_background": "light"
     },
     "output_type": "display_data"
    }
   ],
   "source": [
    "# Create a scatterplot of GDP per capita and Life Ladder\n",
    "\n",
    "df_2.plot(x = 'GDP per capita', y='Life Ladder',style='o')\n",
    "plt.title('GDP per capita vs Life Ladder')  \n",
    "plt.xlabel('GDP per capita')  \n",
    "plt.ylabel('Life Ladder')  \n",
    "plt.show()"
   ]
  },
  {
   "cell_type": "markdown",
   "id": "b7c8293a",
   "metadata": {},
   "source": [
    "# HYPOTHESIS: If people have a higher GDP per capita (ie personal spelling power) then they will rate themselves as higher on the Life Ladder (ie rate themselves happier on a scale of 1-10). "
   ]
  },
  {
   "cell_type": "code",
   "execution_count": 49,
   "id": "83159bdd",
   "metadata": {},
   "outputs": [],
   "source": [
    "# Reshape the variables into NumPy arrays and put them into separate objects.\n",
    "\n",
    "X = df_2['GDP per capita'].values.reshape(-1,1)\n",
    "y = df_2['Life Ladder'].values.reshape(-1,1)"
   ]
  },
  {
   "cell_type": "code",
   "execution_count": 50,
   "id": "e9ff6546",
   "metadata": {},
   "outputs": [
    {
     "data": {
      "text/plain": [
       "array([[7.30257368],\n",
       "       [7.47244644],\n",
       "       [7.57918262],\n",
       "       ...,\n",
       "       [8.19699764],\n",
       "       [8.117733  ],\n",
       "       [8.15324783]])"
      ]
     },
     "execution_count": 50,
     "metadata": {},
     "output_type": "execute_result"
    }
   ],
   "source": [
    "X"
   ]
  },
  {
   "cell_type": "code",
   "execution_count": 51,
   "id": "bc4afe15",
   "metadata": {},
   "outputs": [
    {
     "data": {
      "text/plain": [
       "array([[3.7235899 ],\n",
       "       [4.40177822],\n",
       "       [4.75838089],\n",
       "       ...,\n",
       "       [2.69352317],\n",
       "       [3.1598022 ],\n",
       "       [3.15457821]])"
      ]
     },
     "execution_count": 51,
     "metadata": {},
     "output_type": "execute_result"
    }
   ],
   "source": [
    "y"
   ]
  },
  {
   "cell_type": "code",
   "execution_count": 52,
   "id": "e42bfb74",
   "metadata": {},
   "outputs": [],
   "source": [
    "# Split data into a training set and a test set.\n",
    "\n",
    "X_train, X_test, y_train, y_test = train_test_split(X, y, test_size=0.3, random_state=0)"
   ]
  },
  {
   "cell_type": "markdown",
   "id": "52cc7031",
   "metadata": {},
   "source": [
    "# Run a linear regression on the data\n",
    "\n",
    "- First, fit the model you created to the training set.\n",
    "- Then, create a prediction for y on the test set."
   ]
  },
  {
   "cell_type": "code",
   "execution_count": 53,
   "id": "78b3461f",
   "metadata": {},
   "outputs": [],
   "source": [
    "# Create a regression object\n",
    "\n",
    "regression = LinearRegression()"
   ]
  },
  {
   "cell_type": "code",
   "execution_count": 54,
   "id": "0b39e827",
   "metadata": {},
   "outputs": [
    {
     "data": {
      "text/plain": [
       "LinearRegression()"
      ]
     },
     "execution_count": 54,
     "metadata": {},
     "output_type": "execute_result"
    }
   ],
   "source": [
    "# Fit the regression object onto the training set\n",
    "\n",
    "regression.fit(X_train, y_train)"
   ]
  },
  {
   "cell_type": "code",
   "execution_count": 55,
   "id": "57ba2ca9",
   "metadata": {},
   "outputs": [],
   "source": [
    "# Predict the values of y using X\n",
    "\n",
    "y_predicted = regression.predict(X_test)"
   ]
  },
  {
   "cell_type": "code",
   "execution_count": 56,
   "id": "5132e5ec",
   "metadata": {},
   "outputs": [
    {
     "data": {
      "image/png": "[encoded data removed]",
      "text/plain": [
       "<Figure size 432x288 with 1 Axes>"
      ]
     },
     "metadata": {
      "needs_background": "light"
     },
     "output_type": "display_data"
    }
   ],
   "source": [
    "# Creating a plot that shows the regression line from the model on the test set\n",
    "\n",
    "plot_test = plt\n",
    "plot_test.scatter(X_test, y_test, color='gray', s = 15)\n",
    "plot_test.plot(X_test, y_predicted, color='red', linewidth =3)\n",
    "plot_test.title('GDP per capita vs Life Ladder (Test set)')\n",
    "plot_test.xlabel('GDP per capita')\n",
    "plot_test.ylabel('Life. Ladder')\n",
    "plot_test.show()"
   ]
  },
  {
   "cell_type": "markdown",
   "id": "7e4b5a42",
   "metadata": {},
   "source": [
    "# step 10 - Write your own interpretation of how well the line appears to fit the data in a markdown cell\n",
    "\n",
    "The line appears to fit the data well. So, personal spending power (GDP per capita) DOES have an impact on how people rate their personal happiness (Life Ladder). Money can't buy happiness, but it can buy things and opportunities that can lead to happiness. "
   ]
  },
  {
   "cell_type": "code",
   "execution_count": 57,
   "id": "ef9ecb4b",
   "metadata": {},
   "outputs": [],
   "source": [
    "# Create objects that contain the model summary statistics\n",
    "\n",
    "rmse = mean_squared_error(y_test, y_predicted) \n",
    "r2 = r2_score(y_test, y_predicted)"
   ]
  },
  {
   "cell_type": "code",
   "execution_count": 58,
   "id": "04fdb3cd",
   "metadata": {},
   "outputs": [
    {
     "name": "stdout",
     "output_type": "stream",
     "text": [
      "Slope: [[0.77034895]]\n",
      "Mean squared error:  0.4783634491405093\n",
      "R2 score:  0.5986457210681588\n"
     ]
    }
   ],
   "source": [
    "# Print the model summary statistics\n",
    "\n",
    "print('Slope:' ,regression.coef_)\n",
    "print('Mean squared error: ', rmse)\n",
    "print('R2 score: ', r2)"
   ]
  },
  {
   "cell_type": "code",
   "execution_count": 59,
   "id": "8c41969b",
   "metadata": {},
   "outputs": [
    {
     "data": {
      "text/plain": [
       "array([[6.0233194 ],\n",
       "       [6.32178466],\n",
       "       [6.06823591],\n",
       "       [6.26266127],\n",
       "       [5.48400329],\n",
       "       [6.78654361],\n",
       "       [6.57822064],\n",
       "       [4.82909251],\n",
       "       [6.79201096],\n",
       "       [5.92180601],\n",
       "       [4.79996536],\n",
       "       [5.44584714],\n",
       "       [3.57770083],\n",
       "       [3.96226113],\n",
       "       [6.53141092],\n",
       "       [4.81101248],\n",
       "       [4.50867114],\n",
       "       [4.97399724],\n",
       "       [6.53936731],\n",
       "       [5.60056182],\n",
       "       [6.18185653],\n",
       "       [5.60894432],\n",
       "       [5.21643718],\n",
       "       [5.94880998],\n",
       "       [4.83667789],\n",
       "       [5.3186676 ],\n",
       "       [5.64473264],\n",
       "       [4.51297259],\n",
       "       [6.30157337],\n",
       "       [4.54358669],\n",
       "       [5.85809171],\n",
       "       [4.45898375],\n",
       "       [6.50310292],\n",
       "       [6.67614742],\n",
       "       [5.49825353],\n",
       "       [5.38077005],\n",
       "       [5.94454674],\n",
       "       [5.47137739],\n",
       "       [5.77947994],\n",
       "       [4.40896024],\n",
       "       [5.08033516],\n",
       "       [5.73360324],\n",
       "       [5.40225377],\n",
       "       [5.82062615],\n",
       "       [5.74885408],\n",
       "       [5.58399005],\n",
       "       [5.6798943 ],\n",
       "       [6.26132565],\n",
       "       [5.58618228],\n",
       "       [6.43020314],\n",
       "       [3.96189233],\n",
       "       [4.5112645 ],\n",
       "       [6.28196378],\n",
       "       [4.58674661],\n",
       "       [4.90458417],\n",
       "       [4.51622787],\n",
       "       [5.81239574],\n",
       "       [6.28823265],\n",
       "       [4.67875495],\n",
       "       [4.68214468],\n",
       "       [5.04551879],\n",
       "       [6.37360038],\n",
       "       [4.60964015],\n",
       "       [3.98058433],\n",
       "       [3.7801285 ],\n",
       "       [5.21314589],\n",
       "       [5.18954341],\n",
       "       [4.1091028 ],\n",
       "       [4.97739285],\n",
       "       [5.86319468],\n",
       "       [5.19609879],\n",
       "       [5.60861298],\n",
       "       [5.85719175],\n",
       "       [5.82235628],\n",
       "       [5.47344032],\n",
       "       [5.62622797],\n",
       "       [4.40011307],\n",
       "       [5.81552907],\n",
       "       [4.72924459],\n",
       "       [6.03108772],\n",
       "       [3.37425381],\n",
       "       [6.55281897],\n",
       "       [6.43781425],\n",
       "       [5.41092939],\n",
       "       [5.45623306],\n",
       "       [4.35894078],\n",
       "       [5.81864624],\n",
       "       [5.63093716],\n",
       "       [5.06590126],\n",
       "       [6.36806617],\n",
       "       [4.5539153 ],\n",
       "       [4.45627945],\n",
       "       [4.28989614],\n",
       "       [6.03484331],\n",
       "       [5.7280176 ],\n",
       "       [4.63651849],\n",
       "       [6.55508246],\n",
       "       [6.21681615],\n",
       "       [5.43679831],\n",
       "       [4.37649369],\n",
       "       [6.46384478],\n",
       "       [5.84140534],\n",
       "       [5.34279757],\n",
       "       [4.26423293],\n",
       "       [6.53164307],\n",
       "       [5.4169044 ],\n",
       "       [4.85602301],\n",
       "       [6.05954632],\n",
       "       [6.45572016],\n",
       "       [5.17096307],\n",
       "       [6.21556429],\n",
       "       [4.43661182],\n",
       "       [5.86929164],\n",
       "       [6.71576407],\n",
       "       [6.29080176],\n",
       "       [6.274565  ],\n",
       "       [5.52895652],\n",
       "       [4.63028856],\n",
       "       [4.13157317],\n",
       "       [4.11913608],\n",
       "       [3.93536258],\n",
       "       [5.75674803],\n",
       "       [4.77424705],\n",
       "       [5.11549388],\n",
       "       [5.6223688 ],\n",
       "       [5.46097163],\n",
       "       [6.57306552],\n",
       "       [4.81682586],\n",
       "       [5.61936109],\n",
       "       [4.58052109],\n",
       "       [6.04582798],\n",
       "       [4.78216303],\n",
       "       [5.45855459],\n",
       "       [5.20401184],\n",
       "       [4.37416591],\n",
       "       [5.653038  ],\n",
       "       [4.90600868],\n",
       "       [4.39585865],\n",
       "       [5.65216742],\n",
       "       [6.00840135],\n",
       "       [4.8474811 ],\n",
       "       [5.11675089],\n",
       "       [6.51734214],\n",
       "       [6.77705398],\n",
       "       [6.43611497],\n",
       "       [5.56245343],\n",
       "       [6.75617782],\n",
       "       [4.05156701],\n",
       "       [5.17294372],\n",
       "       [6.12745114],\n",
       "       [6.22320845],\n",
       "       [4.81033291],\n",
       "       [5.84779616],\n",
       "       [5.51891589],\n",
       "       [5.87689759],\n",
       "       [5.94000579],\n",
       "       [3.97298572],\n",
       "       [6.74951077],\n",
       "       [4.97695132],\n",
       "       [3.88203346],\n",
       "       [5.96761513],\n",
       "       [4.56690119],\n",
       "       [4.02791971],\n",
       "       [5.22928421],\n",
       "       [4.98539479],\n",
       "       [6.56815871],\n",
       "       [4.90473992],\n",
       "       [6.64947771],\n",
       "       [4.96998085],\n",
       "       [5.94651637],\n",
       "       [6.63007382],\n",
       "       [3.93470395],\n",
       "       [5.67937122],\n",
       "       [6.37213693],\n",
       "       [4.56453411],\n",
       "       [6.52868753],\n",
       "       [5.27245516],\n",
       "       [4.14026018],\n",
       "       [4.59616792],\n",
       "       [4.90296204],\n",
       "       [6.54588303],\n",
       "       [4.67960348],\n",
       "       [6.57627746],\n",
       "       [6.17804437],\n",
       "       [4.15654764],\n",
       "       [5.68669507],\n",
       "       [5.59280159],\n",
       "       [4.43126495],\n",
       "       [6.04159927],\n",
       "       [6.4029538 ],\n",
       "       [6.0787548 ],\n",
       "       [3.59957759],\n",
       "       [5.88546008],\n",
       "       [4.33214545],\n",
       "       [4.02376923],\n",
       "       [5.48132324],\n",
       "       [6.00236831],\n",
       "       [6.7227698 ],\n",
       "       [5.48663338],\n",
       "       [4.53403902],\n",
       "       [4.20052414],\n",
       "       [5.4697075 ],\n",
       "       [6.37003579],\n",
       "       [6.04821931],\n",
       "       [4.77736202],\n",
       "       [4.11689977],\n",
       "       [5.67061772],\n",
       "       [6.38736353],\n",
       "       [6.59663935],\n",
       "       [4.84486717],\n",
       "       [6.15765603],\n",
       "       [6.49698025],\n",
       "       [4.52224108],\n",
       "       [6.54894509],\n",
       "       [4.15696199],\n",
       "       [5.86054695],\n",
       "       [4.42421256],\n",
       "       [6.09276774],\n",
       "       [4.34017274],\n",
       "       [6.50930714],\n",
       "       [5.62774726],\n",
       "       [5.63150358],\n",
       "       [5.48712633],\n",
       "       [6.63072473],\n",
       "       [3.91421056],\n",
       "       [4.44679938],\n",
       "       [4.57821131],\n",
       "       [6.70086512],\n",
       "       [6.49691854],\n",
       "       [5.5302172 ],\n",
       "       [4.45892203],\n",
       "       [4.64242371],\n",
       "       [4.87306056],\n",
       "       [5.56231018],\n",
       "       [4.11178615],\n",
       "       [4.39852767],\n",
       "       [6.30240942],\n",
       "       [5.81364833],\n",
       "       [6.13936662],\n",
       "       [5.17502575],\n",
       "       [6.47126487],\n",
       "       [4.4860913 ],\n",
       "       [6.44648546],\n",
       "       [4.47175658],\n",
       "       [4.09576648],\n",
       "       [5.38522357],\n",
       "       [5.89294702],\n",
       "       [4.97528878],\n",
       "       [6.2935516 ],\n",
       "       [6.45384604],\n",
       "       [4.08179064],\n",
       "       [5.87012254],\n",
       "       [4.0806644 ],\n",
       "       [6.86696191],\n",
       "       [5.45657615],\n",
       "       [4.73224936],\n",
       "       [5.34430143],\n",
       "       [4.22070016],\n",
       "       [6.41731644],\n",
       "       [5.06027522],\n",
       "       [5.91640551],\n",
       "       [5.46001069],\n",
       "       [4.12278845],\n",
       "       [5.27437703],\n",
       "       [4.16471488],\n",
       "       [6.19193977],\n",
       "       [7.22799613],\n",
       "       [6.14163084],\n",
       "       [3.9292186 ],\n",
       "       [4.00026887],\n",
       "       [6.91240076],\n",
       "       [5.53626788],\n",
       "       [4.76439817],\n",
       "       [5.36030384],\n",
       "       [5.53518645],\n",
       "       [7.23928128],\n",
       "       [5.31652973],\n",
       "       [7.01933008],\n",
       "       [5.87954605],\n",
       "       [4.53811125],\n",
       "       [4.3683889 ],\n",
       "       [6.09136821],\n",
       "       [6.1370583 ],\n",
       "       [6.52065253],\n",
       "       [6.41656341],\n",
       "       [6.16183258],\n",
       "       [5.24645694],\n",
       "       [5.49005029],\n",
       "       [5.41258091],\n",
       "       [6.59448533],\n",
       "       [6.55927886],\n",
       "       [5.95146946],\n",
       "       [4.79135439],\n",
       "       [5.59272959],\n",
       "       [6.6469637 ],\n",
       "       [5.05716319],\n",
       "       [6.32928262],\n",
       "       [6.53053593],\n",
       "       [6.33865323],\n",
       "       [6.15990703],\n",
       "       [4.15153541],\n",
       "       [5.40184383],\n",
       "       [4.36538891],\n",
       "       [6.51719668],\n",
       "       [5.33645744],\n",
       "       [6.44117091],\n",
       "       [6.37470457],\n",
       "       [5.99879272],\n",
       "       [5.73655511],\n",
       "       [3.92875613],\n",
       "       [5.41359254],\n",
       "       [5.64872994],\n",
       "       [6.77390889],\n",
       "       [4.69438488],\n",
       "       [4.69412775],\n",
       "       [4.06776006],\n",
       "       [4.23584412],\n",
       "       [6.04634151],\n",
       "       [5.89225497],\n",
       "       [6.10739927],\n",
       "       [5.5725543 ],\n",
       "       [4.48108605],\n",
       "       [6.10378032],\n",
       "       [5.56955688],\n",
       "       [4.5075427 ],\n",
       "       [6.17318311],\n",
       "       [4.1349978 ],\n",
       "       [5.02871046],\n",
       "       [5.66490205],\n",
       "       [6.64045827],\n",
       "       [5.55577021],\n",
       "       [5.68694779],\n",
       "       [5.98639603],\n",
       "       [4.75980874],\n",
       "       [4.84419789],\n",
       "       [5.85134164],\n",
       "       [5.84982897],\n",
       "       [4.62174591],\n",
       "       [6.63293019],\n",
       "       [4.82573804],\n",
       "       [4.21001193],\n",
       "       [5.93188925],\n",
       "       [5.63974722],\n",
       "       [6.37959008],\n",
       "       [4.37536745],\n",
       "       [5.39120592],\n",
       "       [4.42644556],\n",
       "       [6.53102375],\n",
       "       [6.42974177],\n",
       "       [5.37749493],\n",
       "       [7.03287945],\n",
       "       [4.48109487],\n",
       "       [4.5831115 ],\n",
       "       [6.25239363],\n",
       "       [6.22979249],\n",
       "       [6.61035917],\n",
       "       [5.28504653],\n",
       "       [5.32647779],\n",
       "       [5.37954023],\n",
       "       [6.68005949],\n",
       "       [4.84804238],\n",
       "       [5.59371992],\n",
       "       [6.42226953],\n",
       "       [4.22364469],\n",
       "       [6.06291989],\n",
       "       [4.79735291],\n",
       "       [5.20877318],\n",
       "       [3.67682069],\n",
       "       [6.16939519],\n",
       "       [4.70387598],\n",
       "       [6.66884488],\n",
       "       [5.45227617],\n",
       "       [6.47751244],\n",
       "       [5.79828361],\n",
       "       [5.43502778],\n",
       "       [5.44918692],\n",
       "       [3.76375545],\n",
       "       [5.66425996],\n",
       "       [4.87049071],\n",
       "       [6.68108287],\n",
       "       [6.00072194],\n",
       "       [6.29660559],\n",
       "       [4.1616899 ],\n",
       "       [5.39311604],\n",
       "       [6.67007176],\n",
       "       [4.14939791],\n",
       "       [5.3831408 ],\n",
       "       [4.51807555],\n",
       "       [5.18991735],\n",
       "       [5.22854514],\n",
       "       [5.48043503],\n",
       "       [6.64165724],\n",
       "       [6.90141242],\n",
       "       [5.75593255],\n",
       "       [4.69596955],\n",
       "       [5.88911943],\n",
       "       [6.3843595 ],\n",
       "       [6.76334077],\n",
       "       [5.53053751],\n",
       "       [4.29364475],\n",
       "       [6.61540262],\n",
       "       [4.55174658],\n",
       "       [6.56386094],\n",
       "       [5.78019256],\n",
       "       [5.78523234],\n",
       "       [5.33108412],\n",
       "       [4.15030668],\n",
       "       [6.57652798],\n",
       "       [4.18549883],\n",
       "       [6.40200975],\n",
       "       [6.24907443],\n",
       "       [5.49052562],\n",
       "       [6.5625312 ],\n",
       "       [5.95676417],\n",
       "       [5.87987371],\n",
       "       [6.83491008],\n",
       "       [5.18364407],\n",
       "       [4.66527904],\n",
       "       [6.07810315],\n",
       "       [6.68673243],\n",
       "       [6.4864136 ],\n",
       "       [4.88938181],\n",
       "       [5.53866581],\n",
       "       [4.01913205],\n",
       "       [6.03465524],\n",
       "       [5.28357573],\n",
       "       [5.64106521],\n",
       "       [5.96425552],\n",
       "       [5.88929942],\n",
       "       [6.2140406 ],\n",
       "       [4.45978379],\n",
       "       [6.58263963],\n",
       "       [6.1253522 ],\n",
       "       [3.77536164],\n",
       "       [5.19080923],\n",
       "       [6.20533192],\n",
       "       [3.72544172],\n",
       "       [5.50338955],\n",
       "       [6.430605  ],\n",
       "       [6.58228846],\n",
       "       [4.68484089],\n",
       "       [6.47714952],\n",
       "       [6.2172114 ],\n",
       "       [5.22333198],\n",
       "       [4.37193732],\n",
       "       [2.83485541],\n",
       "       [6.56162683],\n",
       "       [5.39853858],\n",
       "       [5.66228298],\n",
       "       [6.01775507],\n",
       "       [4.49866357],\n",
       "       [6.06415927],\n",
       "       [4.61255308],\n",
       "       [6.68750382],\n",
       "       [3.83602048],\n",
       "       [6.88025195],\n",
       "       [5.26071673],\n",
       "       [4.49028402],\n",
       "       [5.99103469],\n",
       "       [6.6978148 ],\n",
       "       [6.44023495],\n",
       "       [6.65085961],\n",
       "       [6.12710584],\n",
       "       [4.96180259],\n",
       "       [4.05005875],\n",
       "       [4.54208651],\n",
       "       [6.49408935],\n",
       "       [5.24001322],\n",
       "       [5.51976663],\n",
       "       [6.56967652],\n",
       "       [7.23496954],\n",
       "       [6.09896388],\n",
       "       [6.55859121],\n",
       "       [6.23196268],\n",
       "       [5.38367858],\n",
       "       [5.73184886],\n",
       "       [5.91989956],\n",
       "       [5.60939099],\n",
       "       [3.93307668],\n",
       "       [5.03931751],\n",
       "       [5.52219836],\n",
       "       [6.54123702],\n",
       "       [7.22059441],\n",
       "       [5.80161604],\n",
       "       [5.07389144],\n",
       "       [6.0325519 ],\n",
       "       [4.65594222],\n",
       "       [5.11851261],\n",
       "       [4.88648724],\n",
       "       [6.67240799],\n",
       "       [5.04525285],\n",
       "       [5.97248667],\n",
       "       [7.24947986],\n",
       "       [6.46427456],\n",
       "       [4.50408024],\n",
       "       [4.69029575],\n",
       "       [5.67449968],\n",
       "       [6.65602796],\n",
       "       [6.61741707],\n",
       "       [5.53690262],\n",
       "       [7.11789748],\n",
       "       [5.87239705],\n",
       "       [3.6114872 ],\n",
       "       [5.39778115],\n",
       "       [4.20486636],\n",
       "       [5.64464228],\n",
       "       [6.39066877],\n",
       "       [3.91711835],\n",
       "       [6.10804577],\n",
       "       [6.06980588],\n",
       "       [6.39066951],\n",
       "       [4.54752007],\n",
       "       [5.5517068 ],\n",
       "       [3.98375513],\n",
       "       [4.97844342],\n",
       "       [4.14663007],\n",
       "       [5.42700453],\n",
       "       [4.53451288],\n",
       "       [6.09904396],\n",
       "       [5.34381875],\n",
       "       [5.60181663],\n",
       "       [7.05016017],\n",
       "       [3.64680056],\n",
       "       [4.8513917 ],\n",
       "       [3.94231211],\n",
       "       [4.86830509],\n",
       "       [6.1964381 ],\n",
       "       [4.16218066],\n",
       "       [6.62020584],\n",
       "       [5.05100966],\n",
       "       [6.19229975],\n",
       "       [4.84393048],\n",
       "       [5.88107047],\n",
       "       [5.4764179 ],\n",
       "       [3.74123696],\n",
       "       [5.61740983],\n",
       "       [5.90328518],\n",
       "       [5.39584972],\n",
       "       [4.34069875],\n",
       "       [4.44516769],\n",
       "       [6.64523284],\n",
       "       [6.13245051],\n",
       "       [5.90347179],\n",
       "       [4.42047203],\n",
       "       [5.49168712],\n",
       "       [4.86594095],\n",
       "       [5.91788365],\n",
       "       [6.77125529],\n",
       "       [5.50020405],\n",
       "       [6.5957776 ],\n",
       "       [4.81345523],\n",
       "       [4.61165533],\n",
       "       [4.79849898],\n",
       "       [6.10434749],\n",
       "       [5.58681997],\n",
       "       [6.24606378],\n",
       "       [4.3600942 ],\n",
       "       [3.52555268],\n",
       "       [6.39638518],\n",
       "       [6.76905424],\n",
       "       [4.59012238],\n",
       "       [4.17586447],\n",
       "       [6.05497011],\n",
       "       [5.6460543 ],\n",
       "       [4.54807327],\n",
       "       [6.36337608],\n",
       "       [6.8523752 ],\n",
       "       [7.04642442],\n",
       "       [4.25532993],\n",
       "       [5.41399955],\n",
       "       [4.9920883 ],\n",
       "       [5.61419348],\n",
       "       [6.50040304],\n",
       "       [3.89479234],\n",
       "       [5.45839517],\n",
       "       [5.44357263],\n",
       "       [5.7287361 ],\n",
       "       [6.53922184],\n",
       "       [5.09205743],\n",
       "       [4.80966217],\n",
       "       [6.41402148],\n",
       "       [6.16964057],\n",
       "       [6.45506925],\n",
       "       [6.64504256],\n",
       "       [6.15706536],\n",
       "       [4.59120601],\n",
       "       [5.36955176],\n",
       "       [3.84365031],\n",
       "       [5.04782343],\n",
       "       [5.52861564],\n",
       "       [5.08010742],\n",
       "       [4.99067628],\n",
       "       [3.60673687],\n",
       "       [4.70085872],\n",
       "       [6.79334511],\n",
       "       [6.27983913],\n",
       "       [4.76168947],\n",
       "       [6.52408193],\n",
       "       [5.21197778],\n",
       "       [6.0868302 ],\n",
       "       [6.23343274],\n",
       "       [5.24668909],\n",
       "       [4.94508315],\n",
       "       [4.80317877],\n",
       "       [6.2156216 ],\n",
       "       [5.71722909],\n",
       "       [6.35694999],\n",
       "       [5.20527913],\n",
       "       [5.69602454],\n",
       "       [6.53562861],\n",
       "       [5.72695969],\n",
       "       [4.32221723],\n",
       "       [4.73889805],\n",
       "       [4.9997185 ],\n",
       "       [5.83599235],\n",
       "       [5.23418147],\n",
       "       [5.57859396],\n",
       "       [5.23458406],\n",
       "       [6.05284547]])"
      ]
     },
     "execution_count": 59,
     "metadata": {},
     "output_type": "execute_result"
    }
   ],
   "source": [
    "y_predicted"
   ]
  },
  {
   "cell_type": "code",
   "execution_count": 60,
   "id": "f739e1bc",
   "metadata": {},
   "outputs": [
    {
     "data": {
      "text/html": [
       "<div>\n",
       "<style scoped>\n",
       "    .dataframe tbody tr th:only-of-type {\n",
       "        vertical-align: middle;\n",
       "    }\n",
       "\n",
       "    .dataframe tbody tr th {\n",
       "        vertical-align: top;\n",
       "    }\n",
       "\n",
       "    .dataframe thead th {\n",
       "        text-align: right;\n",
       "    }\n",
       "</style>\n",
       "<table border=\"1\" class=\"dataframe\">\n",
       "  <thead>\n",
       "    <tr style=\"text-align: right;\">\n",
       "      <th></th>\n",
       "      <th>Actual</th>\n",
       "      <th>Predicted</th>\n",
       "    </tr>\n",
       "  </thead>\n",
       "  <tbody>\n",
       "    <tr>\n",
       "      <th>0</th>\n",
       "      <td>5.835483</td>\n",
       "      <td>6.023319</td>\n",
       "    </tr>\n",
       "    <tr>\n",
       "      <th>1</th>\n",
       "      <td>6.095473</td>\n",
       "      <td>6.321785</td>\n",
       "    </tr>\n",
       "    <tr>\n",
       "      <th>2</th>\n",
       "      <td>5.968871</td>\n",
       "      <td>6.068236</td>\n",
       "    </tr>\n",
       "    <tr>\n",
       "      <th>3</th>\n",
       "      <td>5.647690</td>\n",
       "      <td>6.262661</td>\n",
       "    </tr>\n",
       "    <tr>\n",
       "      <th>4</th>\n",
       "      <td>5.057561</td>\n",
       "      <td>5.484003</td>\n",
       "    </tr>\n",
       "    <tr>\n",
       "      <th>5</th>\n",
       "      <td>6.585246</td>\n",
       "      <td>6.786544</td>\n",
       "    </tr>\n",
       "    <tr>\n",
       "      <th>6</th>\n",
       "      <td>6.855329</td>\n",
       "      <td>6.578221</td>\n",
       "    </tr>\n",
       "    <tr>\n",
       "      <th>7</th>\n",
       "      <td>5.268375</td>\n",
       "      <td>4.829093</td>\n",
       "    </tr>\n",
       "    <tr>\n",
       "      <th>8</th>\n",
       "      <td>7.444262</td>\n",
       "      <td>6.792011</td>\n",
       "    </tr>\n",
       "    <tr>\n",
       "      <th>9</th>\n",
       "      <td>5.022758</td>\n",
       "      <td>5.921806</td>\n",
       "    </tr>\n",
       "    <tr>\n",
       "      <th>10</th>\n",
       "      <td>4.199015</td>\n",
       "      <td>4.799965</td>\n",
       "    </tr>\n",
       "    <tr>\n",
       "      <th>11</th>\n",
       "      <td>5.936241</td>\n",
       "      <td>5.445847</td>\n",
       "    </tr>\n",
       "    <tr>\n",
       "      <th>12</th>\n",
       "      <td>4.267170</td>\n",
       "      <td>3.577701</td>\n",
       "    </tr>\n",
       "    <tr>\n",
       "      <th>13</th>\n",
       "      <td>4.089562</td>\n",
       "      <td>3.962261</td>\n",
       "    </tr>\n",
       "    <tr>\n",
       "      <th>14</th>\n",
       "      <td>7.393264</td>\n",
       "      <td>6.531411</td>\n",
       "    </tr>\n",
       "    <tr>\n",
       "      <th>15</th>\n",
       "      <td>5.502948</td>\n",
       "      <td>4.811012</td>\n",
       "    </tr>\n",
       "    <tr>\n",
       "      <th>16</th>\n",
       "      <td>4.756773</td>\n",
       "      <td>4.508671</td>\n",
       "    </tr>\n",
       "    <tr>\n",
       "      <th>17</th>\n",
       "      <td>6.049212</td>\n",
       "      <td>4.973997</td>\n",
       "    </tr>\n",
       "    <tr>\n",
       "      <th>18</th>\n",
       "      <td>7.195586</td>\n",
       "      <td>6.539367</td>\n",
       "    </tr>\n",
       "    <tr>\n",
       "      <th>19</th>\n",
       "      <td>5.015515</td>\n",
       "      <td>5.600562</td>\n",
       "    </tr>\n",
       "    <tr>\n",
       "      <th>20</th>\n",
       "      <td>5.409289</td>\n",
       "      <td>6.181857</td>\n",
       "    </tr>\n",
       "    <tr>\n",
       "      <th>21</th>\n",
       "      <td>6.448789</td>\n",
       "      <td>5.608944</td>\n",
       "    </tr>\n",
       "    <tr>\n",
       "      <th>22</th>\n",
       "      <td>6.325119</td>\n",
       "      <td>5.216437</td>\n",
       "    </tr>\n",
       "    <tr>\n",
       "      <th>23</th>\n",
       "      <td>5.386025</td>\n",
       "      <td>5.948810</td>\n",
       "    </tr>\n",
       "    <tr>\n",
       "      <th>24</th>\n",
       "      <td>5.448006</td>\n",
       "      <td>4.836678</td>\n",
       "    </tr>\n",
       "    <tr>\n",
       "      <th>25</th>\n",
       "      <td>5.576147</td>\n",
       "      <td>5.318668</td>\n",
       "    </tr>\n",
       "    <tr>\n",
       "      <th>26</th>\n",
       "      <td>4.461304</td>\n",
       "      <td>5.644733</td>\n",
       "    </tr>\n",
       "    <tr>\n",
       "      <th>27</th>\n",
       "      <td>5.013375</td>\n",
       "      <td>4.512973</td>\n",
       "    </tr>\n",
       "    <tr>\n",
       "      <th>28</th>\n",
       "      <td>5.919823</td>\n",
       "      <td>6.301573</td>\n",
       "    </tr>\n",
       "    <tr>\n",
       "      <th>29</th>\n",
       "      <td>3.154578</td>\n",
       "      <td>4.543587</td>\n",
       "    </tr>\n",
       "  </tbody>\n",
       "</table>\n",
       "</div>"
      ],
      "text/plain": [
       "      Actual  Predicted\n",
       "0   5.835483   6.023319\n",
       "1   6.095473   6.321785\n",
       "2   5.968871   6.068236\n",
       "3   5.647690   6.262661\n",
       "4   5.057561   5.484003\n",
       "5   6.585246   6.786544\n",
       "6   6.855329   6.578221\n",
       "7   5.268375   4.829093\n",
       "8   7.444262   6.792011\n",
       "9   5.022758   5.921806\n",
       "10  4.199015   4.799965\n",
       "11  5.936241   5.445847\n",
       "12  4.267170   3.577701\n",
       "13  4.089562   3.962261\n",
       "14  7.393264   6.531411\n",
       "15  5.502948   4.811012\n",
       "16  4.756773   4.508671\n",
       "17  6.049212   4.973997\n",
       "18  7.195586   6.539367\n",
       "19  5.015515   5.600562\n",
       "20  5.409289   6.181857\n",
       "21  6.448789   5.608944\n",
       "22  6.325119   5.216437\n",
       "23  5.386025   5.948810\n",
       "24  5.448006   4.836678\n",
       "25  5.576147   5.318668\n",
       "26  4.461304   5.644733\n",
       "27  5.013375   4.512973\n",
       "28  5.919823   6.301573\n",
       "29  3.154578   4.543587"
      ]
     },
     "execution_count": 60,
     "metadata": {},
     "output_type": "execute_result"
    }
   ],
   "source": [
    "# Create a dataframe comparing the actual and predicted values of y\n",
    "\n",
    "data = pd.DataFrame({'Actual': y_test.flatten(), 'Predicted': y_predicted.flatten()})\n",
    "data.head(30)"
   ]
  },
  {
   "cell_type": "code",
   "execution_count": 61,
   "id": "5d20aba6",
   "metadata": {},
   "outputs": [],
   "source": [
    "# comparing how the regression fits to the training set\n",
    "\n",
    "y_predicted_train = regression.predict(X_train)"
   ]
  },
  {
   "cell_type": "code",
   "execution_count": 62,
   "id": "9cb9dc08",
   "metadata": {},
   "outputs": [],
   "source": [
    "rmse = mean_squared_error(y_train, y_predicted_train)\n",
    "r2 = r2_score(y_train, y_predicted_train)"
   ]
  },
  {
   "cell_type": "code",
   "execution_count": 63,
   "id": "90395ae6",
   "metadata": {},
   "outputs": [
    {
     "name": "stdout",
     "output_type": "stream",
     "text": [
      "Slope: [[0.77034895]]\n",
      "Mean squared error:  0.48421278651902966\n",
      "R2 score:  0.6166944835558315\n"
     ]
    }
   ],
   "source": [
    "print('Slope:' ,regression.coef_)\n",
    "print('Mean squared error: ', rmse)\n",
    "print('R2 score: ', r2)"
   ]
  },
  {
   "cell_type": "code",
   "execution_count": 64,
   "id": "5b44deaf",
   "metadata": {},
   "outputs": [
    {
     "data": {
      "image/png": "[encoded data removed]",
      "text/plain": [
       "<Figure size 432x288 with 1 Axes>"
      ]
     },
     "metadata": {
      "needs_background": "light"
     },
     "output_type": "display_data"
    }
   ],
   "source": [
    "# Visualizing the training set results.\n",
    "\n",
    "plot_test = plt\n",
    "plot_test.scatter(X_train, y_train, color='green', s = 15)\n",
    "plot_test.plot(X_train, y_predicted_train, color='red', linewidth =3)\n",
    "plot_test.title('GDP per capita vs Life Ladder(Train set)')\n",
    "plot_test.xlabel('GDP per capita')\n",
    "plot_test.ylabel('Life Ladder')\n",
    "plot_test.show()"
   ]
  },
  {
   "cell_type": "markdown",
   "id": "c354d2e8",
   "metadata": {},
   "source": [
    "# Include your thoughts on how well the model performed on the test set in a markdown cell.\n",
    "- Include any reflections you have on the impact of possible data bias.\n",
    "\n",
    "The model performed fairly well on the test set. The r2 score is 0.61669, so we could call it about 62% accurate. Since happiness is so subjective, and the overall study and dataset includes additional factors such as Life Expectancy, Social Support, various reflections on government and freedom, these results seem logical in predicting the impact of spending power on happiness. "
   ]
  },
  {
   "cell_type": "code",
   "execution_count": null,
   "id": "8c4a7f69",
   "metadata": {},
   "outputs": [],
   "source": []
  }
 ],
 "metadata": {
  "kernelspec": {
   "display_name": "Python 3 (ipykernel)",
   "language": "python",
   "name": "python3"
  },
  "language_info": {
   "codemirror_mode": {
    "name": "ipython",
    "version": 3
   },
   "file_extension": ".py",
   "mimetype": "text/x-python",
   "name": "python",
   "nbconvert_exporter": "python",
   "pygments_lexer": "ipython3",
   "version": "3.9.12"
  }
 },
 "nbformat": 4,
 "nbformat_minor": 5
}
